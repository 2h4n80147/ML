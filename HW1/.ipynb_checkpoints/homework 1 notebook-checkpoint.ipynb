{
 "cells": [
  {
   "cell_type": "code",
   "execution_count": 202,
   "metadata": {},
   "outputs": [
    {
     "name": "stdout",
     "output_type": "stream",
     "text": [
      "0.7327387580875756 0.7770887149698589\n",
      "-0.04794773197419977\n"
     ]
    }
   ],
   "source": [
    "#Task 1\n",
    "import numpy as np\n",
    "import pandas as pd\n",
    "import regex as re\n",
    "\n",
    "\n",
    "#1\n",
    "with open('sentences.txt') as f:\n",
    "    text = f.read().lower() #2\n",
    "\n",
    "#3\n",
    "words = re.split('[^a-z]', text)\n",
    "words = [i for i in words if i != '']\n",
    "\n",
    "#4\n",
    "wordId = {}\n",
    "d=0\n",
    "for word in sorted(words):\n",
    "    if (word not in wordId):\n",
    "    \n",
    "        wordId[word]=d\n",
    "        d=d+1\n",
    "\n",
    "#5\n",
    "sentences = text.split('\\n')\n",
    "A = np.zeros((len(sentences), len(wordId)))\n",
    "\n",
    "for i in range(len(sentences)):\n",
    "    ww = re.split('[^a-z]', sentences[i])\n",
    "    for word in ww:\n",
    "        if word in wordId:\n",
    "            j = wordId[word]\n",
    "            A[i][j]=A[i][j]+1\n",
    "\n",
    "def simiarity_score(A,B):\n",
    "    return A.dot(B)/ (np.linalg.norm(A) * np.linalg.norm(B))\n",
    "def cos_dis(A,B):\n",
    "    return 1-simiarity_score(A,B)\n",
    "#6\n",
    "W = [cos_dis(A[0],A[i]) for i in range(1,A.shape[0])]\n",
    "\n",
    "\n",
    "#7\n",
    "W_sorted = sorted(W)\n",
    "print(W_sorted[0],W_sorted[1])\n",
    "\n",
    "#8\n",
    "print(W_sorted[1]-W_sorted[2])"
   ]
  },
  {
   "cell_type": "code",
   "execution_count": 203,
   "metadata": {},
   "outputs": [
    {
     "ename": "SyntaxError",
     "evalue": "invalid character in identifier (<ipython-input-203-69fd74b3380b>, line 1)",
     "output_type": "error",
     "traceback": [
      "\u001b[1;36m  File \u001b[1;32m\"<ipython-input-203-69fd74b3380b>\"\u001b[1;36m, line \u001b[1;32m1\u001b[0m\n\u001b[1;33m    cos-dist(A,C)≰cos-dist(A,B)+cos-dist(B,C)\u001b[0m\n\u001b[1;37m                    ^\u001b[0m\n\u001b[1;31mSyntaxError\u001b[0m\u001b[1;31m:\u001b[0m invalid character in identifier\n"
     ]
    }
   ],
   "source": [
    "cos-dist(A,C)≰cos-dist(A,B)+cos-dist(B,C)"
   ]
  },
  {
   "cell_type": "code",
   "execution_count": null,
   "metadata": {},
   "outputs": [],
   "source": []
  },
  {
   "cell_type": "code",
   "execution_count": null,
   "metadata": {},
   "outputs": [],
   "source": []
  }
 ],
 "metadata": {
  "kernelspec": {
   "display_name": "Python 3",
   "language": "python",
   "name": "python3"
  },
  "language_info": {
   "codemirror_mode": {
    "name": "ipython",
    "version": 3
   },
   "file_extension": ".py",
   "mimetype": "text/x-python",
   "name": "python",
   "nbconvert_exporter": "python",
   "pygments_lexer": "ipython3",
   "version": "3.8.3"
  }
 },
 "nbformat": 4,
 "nbformat_minor": 4
}
